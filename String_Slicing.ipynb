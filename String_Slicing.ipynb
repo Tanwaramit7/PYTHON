{
 "cells": [
  {
   "cell_type": "markdown",
   "id": "8b8450a3",
   "metadata": {},
   "source": [
    "### String Indexing and Slicing"
   ]
  },
  {
   "cell_type": "code",
   "execution_count": 1,
   "id": "1b8b2b4a",
   "metadata": {},
   "outputs": [
    {
     "name": "stdout",
     "output_type": "stream",
     "text": [
      "31\n"
     ]
    }
   ],
   "source": [
    "s = \"Learning ML and AI after Python\"\n",
    "print(len(s))"
   ]
  },
  {
   "cell_type": "markdown",
   "id": "26f20f1f",
   "metadata": {},
   "source": [
    "### Indexing\n",
    "<b>\n",
    "1) Left to Right direction -> Indexes starts from 0 towards len(s)-1<br>\n",
    "2) Right to Left direction -> Indexes starts from -1 towards -len(s)\n",
    "    </b>"
   ]
  },
  {
   "cell_type": "code",
   "execution_count": 9,
   "id": "cf7118f5",
   "metadata": {},
   "outputs": [
    {
     "name": "stdout",
     "output_type": "stream",
     "text": [
      "Learning ML and AI after Python\n",
      "i\n",
      "L\n",
      "h\n",
      "I\n"
     ]
    }
   ],
   "source": [
    "print(s)\n",
    "print(s[5])\n",
    "print(s[10])\n",
    "print(s[-3])\n",
    "print(s[-14])"
   ]
  },
  {
   "cell_type": "markdown",
   "id": "9f7838a7",
   "metadata": {},
   "source": [
    "### Slicing\n",
    "\n",
    "Syntax -> s[start:end:step]<br>\n",
    "\n",
    "\n",
    "1) start - Index from where slicing starts<br>\n",
    "2) end - Index from where slicing ends.<br>\n",
    "3) step - Number of characters to jump while slicig. Default value is +1\n",
    "\n",
    "All parameters are optional"
   ]
  },
  {
   "cell_type": "markdown",
   "id": "3572bb9c",
   "metadata": {},
   "source": [
    "#### Left to Right slicing\n",
    "1) Step size has to be a positive number.<br>\n",
    "2) Slicing is performed till index end-1 if end is mentioned, otherwise till right end.<br>\n",
    "3) If start is not mnetioned, then its default value is 0 (if slicing direction is from left to right)."
   ]
  },
  {
   "cell_type": "code",
   "execution_count": 15,
   "id": "e8ccad3b",
   "metadata": {},
   "outputs": [
    {
     "name": "stdout",
     "output_type": "stream",
     "text": [
      "Learning ML and AI after Python\n",
      "nin\n",
      "L and AI\n",
      "Lear\n",
      "Python\n",
      "Learning ML and AI after Python\n"
     ]
    }
   ],
   "source": [
    "print(s)\n",
    "print(s[4:7])   # start=4, end=7, step=+1 => \n",
    "print(s[10:18]) # start=10, end=18, step=+1\n",
    "print(s[:4])    # start=0, end=4, step=+1\n",
    "print(s[25:])   # start=25,\n",
    "print(s[:])     # start=0, end=, step=+1"
   ]
  },
  {
   "cell_type": "markdown",
   "id": "6b1acd99",
   "metadata": {},
   "source": [
    "<img src=\"String_slicing2.png\">"
   ]
  },
  {
   "cell_type": "code",
   "execution_count": 19,
   "id": "a87d6d8f",
   "metadata": {},
   "outputs": [
    {
     "name": "stdout",
     "output_type": "stream",
     "text": [
      "ai  dIfr\n",
      "M n Iat\n",
      "iMnI\n",
      "a  t \n",
      "Lann Lad\n",
      "nAaePh\n"
     ]
    }
   ],
   "source": [
    "print(s[2:24:3]) # start=2, end=24, step=3\n",
    "print(s[-22:-8:2]) # \n",
    "print(s[-26:18:4]) #\n",
    "print(s[12:-4:3])  #\n",
    "print(s[:15:2])\n",
    "print(s[13::3])"
   ]
  },
  {
   "cell_type": "markdown",
   "id": "1629dc33",
   "metadata": {},
   "source": [
    "#### Right to Left slicing\n",
    "1) Step size has to be a negative number.<br>\n",
    "2) Slicing is performed till index end+1 if end is mentioned, otherwise till left end.<br>"
   ]
  },
  {
   "cell_type": "markdown",
   "id": "1185e4fa",
   "metadata": {},
   "source": [
    "<img src=\"string_slicing2.png\">"
   ]
  },
  {
   "cell_type": "code",
   "execution_count": 20,
   "id": "e92a88d5",
   "metadata": {},
   "outputs": [
    {
     "name": "stdout",
     "output_type": "stream",
     "text": [
      "\n"
     ]
    }
   ],
   "source": [
    "print(s[10:2]) # start=10, end=2, step=+1"
   ]
  },
  {
   "cell_type": "code",
   "execution_count": 26,
   "id": "5ed77590",
   "metadata": {},
   "outputs": [
    {
     "name": "stdout",
     "output_type": "stream",
     "text": [
      "LM gninr\n",
      "rtaI n Mg\n",
      "yrfId  \n",
      "oPtInMi\n",
      "eIaga\n"
     ]
    }
   ],
   "source": [
    "print(s[10:2:-1])\n",
    "print(s[23:5:-2]) # rtai n Mg\n",
    "print(s[-5:5:-3]) # yrfID\n",
    "print(s[-2:-27:-4]) # oPtInMi\n",
    "print(s[22:-30:-5]) # eIaga"
   ]
  },
  {
   "cell_type": "markdown",
   "id": "8f8cd924",
   "metadata": {},
   "source": [
    "### Special Case\n",
    "\n",
    "1) When start and/or end is absent(not mentioned) but step size is mentioned, then slicing direction is governed by step size<br>\n",
    "a) If step size is positive=> Left to Right slicing is performed<br>\n",
    "b) If step size is negative=> Right to Left slicing is performed"
   ]
  },
  {
   "cell_type": "markdown",
   "id": "a394a943",
   "metadata": {},
   "source": [
    "<img src=\"string_slicing2.png\">"
   ]
  },
  {
   "cell_type": "markdown",
   "id": "092d1eb3",
   "metadata": {},
   "source": [
    "#### a) When start is absent, end and step are present"
   ]
  },
  {
   "cell_type": "code",
   "execution_count": 30,
   "id": "116914ef",
   "metadata": {},
   "outputs": [
    {
     "name": "stdout",
     "output_type": "stream",
     "text": [
      "Ln aAf\n",
      "LrnMa\n",
      "nt t  a\n",
      "nhy e\n"
     ]
    }
   ],
   "source": [
    "print(s[:23:4])        # Ln aAf\n",
    "print(s[:-18:3])      # LrnMa\n",
    "print(s[:-20:-3])     # nt t  a\n",
    "print(s[:20:-2])     # nhy e"
   ]
  },
  {
   "cell_type": "markdown",
   "id": "354d48e5",
   "metadata": {},
   "source": [
    "<img src=\"String_slicing2.png\">"
   ]
  },
  {
   "cell_type": "markdown",
   "id": "c69ab2a4",
   "metadata": {},
   "source": [
    "#### b) When end is absent, start and step are present"
   ]
  },
  {
   "cell_type": "code",
   "execution_count": 34,
   "id": "fa9780a2",
   "metadata": {},
   "outputs": [
    {
     "name": "stdout",
     "output_type": "stream",
     "text": [
      "iMnItPo\n",
      "nrL\n",
      "  t tn\n",
      "Lgne\n"
     ]
    }
   ],
   "source": [
    "print(s[5::4]) # iMnitpo\n",
    "print(s[-25::-3]) # nrL\n",
    "print(s[-16::3]) # __t_tn\n",
    "print(s[10::-3]) # Lgne"
   ]
  },
  {
   "cell_type": "markdown",
   "id": "ed7c45d6",
   "metadata": {},
   "source": [
    "<img src=\"String_slicing2.png\">"
   ]
  },
  {
   "cell_type": "markdown",
   "id": "9f2adba9",
   "metadata": {},
   "source": [
    "#### c) When both start and end are absent, but step size is present"
   ]
  },
  {
   "cell_type": "code",
   "execution_count": 37,
   "id": "687f9ad5",
   "metadata": {},
   "outputs": [
    {
     "name": "stdout",
     "output_type": "stream",
     "text": [
      "Ln aAf h\n",
      "nPf LiL\n"
     ]
    }
   ],
   "source": [
    "print(s[::4])  # Ln aAf h\n",
    "print(s[::-5]) # nPf LiL"
   ]
  },
  {
   "cell_type": "markdown",
   "id": "3efb178d",
   "metadata": {},
   "source": [
    "### Reverse a string"
   ]
  },
  {
   "cell_type": "code",
   "execution_count": 38,
   "id": "bf72b619",
   "metadata": {},
   "outputs": [
    {
     "name": "stdout",
     "output_type": "stream",
     "text": [
      "nohtyP retfa IA dna LM gninraeL\n"
     ]
    }
   ],
   "source": [
    "print(s[::-1])"
   ]
  },
  {
   "cell_type": "markdown",
   "id": "c75927ed",
   "metadata": {},
   "source": [
    "### String Methods"
   ]
  },
  {
   "cell_type": "markdown",
   "id": "cbcef788",
   "metadata": {},
   "source": [
    "#### 1) replace(s1,s2)\n",
    "1) Replaces the subtring s1 in the original string with s2.<br>\n",
    "2) It replaces all the coourences of s1 with s2<br>\n",
    "3) If s1 is not a substring of the original, it returns original string"
   ]
  },
  {
   "cell_type": "code",
   "execution_count": 42,
   "id": "4498cab2",
   "metadata": {},
   "outputs": [
    {
     "name": "stdout",
     "output_type": "stream",
     "text": [
      "Learning Data Science and AI after Python\n",
      "Learning ML and Statistics after Python\n",
      "Learzizg ML azd AI after Pythoz\n",
      "Learning ML and AI after Python\n"
     ]
    }
   ],
   "source": [
    "s = \"Learning ML and AI after Python\"\n",
    "print(s.replace('ML','Data Science'))\n",
    "print(s.replace('AI','Statistics'))\n",
    "print(s.replace('n','z'))\n",
    "print(s.replace('where','hello'))"
   ]
  },
  {
   "cell_type": "markdown",
   "id": "707bddcd",
   "metadata": {},
   "source": [
    "#### 2) split()\n",
    "1) It returns a list<br>\n",
    "2) By default it splits based on singl empty space<br>\n",
    "3) Removes the entity based on which split has been applied.<br>"
   ]
  },
  {
   "cell_type": "code",
   "execution_count": 43,
   "id": "0ffbe7c0",
   "metadata": {},
   "outputs": [
    {
     "name": "stdout",
     "output_type": "stream",
     "text": [
      "['FIFA', 'World', 'Cup', '2022', 'is', 'scheduled', 'in', 'the', 'month', 'of', 'Nov', 'and', 'Dec', 'in', 'Qatar']\n",
      "['FIFA W', 'rld Cup 2022 is scheduled in the m', 'nth ', 'f N', 'v and Dec in Qatar']\n"
     ]
    }
   ],
   "source": [
    "w = \"FIFA World Cup 2022 is scheduled in the month of Nov and Dec in Qatar\"\n",
    "w1 = w.split()\n",
    "w2 = w.split('o')\n",
    "print(w1)\n",
    "print(w2)"
   ]
  },
  {
   "cell_type": "code",
   "execution_count": null,
   "id": "9f66ebc2",
   "metadata": {},
   "outputs": [],
   "source": []
  }
 ],
 "metadata": {
  "kernelspec": {
   "display_name": "Python 3",
   "language": "python",
   "name": "python3"
  },
  "language_info": {
   "codemirror_mode": {
    "name": "ipython",
    "version": 3
   },
   "file_extension": ".py",
   "mimetype": "text/x-python",
   "name": "python",
   "nbconvert_exporter": "python",
   "pygments_lexer": "ipython3",
   "version": "3.8.8"
  }
 },
 "nbformat": 4,
 "nbformat_minor": 5
}
