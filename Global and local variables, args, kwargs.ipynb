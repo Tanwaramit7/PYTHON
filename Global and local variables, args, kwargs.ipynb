{
 "cells": [
  {
   "cell_type": "code",
   "execution_count": 1,
   "id": "66b0d858",
   "metadata": {},
   "outputs": [
    {
     "name": "stdout",
     "output_type": "stream",
     "text": [
      "10\n"
     ]
    }
   ],
   "source": [
    "x = 10\n",
    "\n",
    "def f1():\n",
    "    print(x)\n",
    "    \n",
    "f1()"
   ]
  },
  {
   "cell_type": "code",
   "execution_count": 2,
   "id": "544ae755",
   "metadata": {},
   "outputs": [
    {
     "name": "stdout",
     "output_type": "stream",
     "text": [
      "20\n",
      "45\n",
      "45\n"
     ]
    }
   ],
   "source": [
    "e = 20\n",
    "print(e)\n",
    "\n",
    "def f2():\n",
    "    global e\n",
    "    e = 45\n",
    "    print(e)\n",
    "    \n",
    "f2()\n",
    "print(e)"
   ]
  },
  {
   "cell_type": "code",
   "execution_count": 5,
   "id": "90f89ae4",
   "metadata": {},
   "outputs": [
    {
     "name": "stdout",
     "output_type": "stream",
     "text": [
      "(56, 67, 78, 89, 94)\n",
      "Ankit has an avg score of 76.8\n"
     ]
    }
   ],
   "source": [
    "def game(name, *y):\n",
    "    print(y)\n",
    "    avg = sum(y)/len(y)\n",
    "    print(f'{name} has an avg score of {avg}')\n",
    "    \n",
    "game('Ankit',56,67,78,89,94)"
   ]
  },
  {
   "cell_type": "code",
   "execution_count": 6,
   "id": "bb324603",
   "metadata": {},
   "outputs": [
    {
     "name": "stdout",
     "output_type": "stream",
     "text": [
      "(56, 67, 78, 89, 94)\n",
      "Ankit has an avg score of 76.8\n",
      "dict_keys(['age', 'city'])\n",
      "dict_values([23, 'mumbai'])\n"
     ]
    }
   ],
   "source": [
    "def game(name, *y,**d):\n",
    "    print(y)\n",
    "    avg = sum(y)/len(y)\n",
    "    print(f'{name} has an avg score of {avg}')\n",
    "    print(d.keys())\n",
    "    print(d.values())\n",
    "    \n",
    "game('Ankit',56,67,78,89,94,age=23,city='mumbai')"
   ]
  },
  {
   "cell_type": "code",
   "execution_count": null,
   "id": "3eaa5e82",
   "metadata": {},
   "outputs": [],
   "source": []
  }
 ],
 "metadata": {
  "kernelspec": {
   "display_name": "Python 3",
   "language": "python",
   "name": "python3"
  },
  "language_info": {
   "codemirror_mode": {
    "name": "ipython",
    "version": 3
   },
   "file_extension": ".py",
   "mimetype": "text/x-python",
   "name": "python",
   "nbconvert_exporter": "python",
   "pygments_lexer": "ipython3",
   "version": "3.8.8"
  }
 },
 "nbformat": 4,
 "nbformat_minor": 5
}
