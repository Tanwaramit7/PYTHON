{
 "cells": [
  {
   "cell_type": "markdown",
   "metadata": {},
   "source": [
    "<b>Topics</b>\n",
    "<ul>\n",
    "<li>Strings</li>\n",
    "<li>String Functions</li>\n",
    "</ul>"
   ]
  },
  {
   "cell_type": "code",
   "execution_count": 2,
   "metadata": {},
   "outputs": [
    {
     "name": "stdout",
     "output_type": "stream",
     "text": [
      "Hello\n",
      "World\n",
      "Python\n",
      "Django\n"
     ]
    },
    {
     "data": {
      "text/plain": [
       "str"
      ]
     },
     "execution_count": 2,
     "metadata": {},
     "output_type": "execute_result"
    }
   ],
   "source": [
    "s1 = 'Hello'\n",
    "s2 = \"World\"\n",
    "s3 = \"\"\"Python\"\"\"\n",
    "s4 = '''Django'''\n",
    "print(s1)\n",
    "print(s2)\n",
    "print(s3)\n",
    "print(s4)\n",
    "type(s4)"
   ]
  },
  {
   "cell_type": "code",
   "execution_count": 7,
   "metadata": {},
   "outputs": [
    {
     "name": "stdout",
     "output_type": "stream",
     "text": [
      "Welcome to Python\n",
      "17\n"
     ]
    }
   ],
   "source": [
    "name = \"Welcome to Python\"\n",
    "print(name)\n",
    "print(len(name))"
   ]
  },
  {
   "cell_type": "markdown",
   "metadata": {},
   "source": [
    "### Note\n",
    "1) Indexes start from 0 towards positive from left to right<br>\n",
    "2) Indexes range from 0 to len(str)-1 from left to right<br>\n",
    "3) Indexes start from -1 towards negative from right to left.<br>\n",
    "4) Indexes range from -1 to -len(str) from right to left."
   ]
  },
  {
   "cell_type": "markdown",
   "metadata": {},
   "source": [
    "## Indexing\n",
    "Indexing returns the character present at a particular index"
   ]
  },
  {
   "cell_type": "code",
   "execution_count": 10,
   "metadata": {},
   "outputs": [
    {
     "name": "stdout",
     "output_type": "stream",
     "text": [
      "Welcome to Python\n",
      "W\n",
      "l\n",
      " \n",
      "c\n"
     ]
    },
    {
     "ename": "IndexError",
     "evalue": "string index out of range",
     "output_type": "error",
     "traceback": [
      "\u001b[1;31m---------------------------------------------------------------------------\u001b[0m",
      "\u001b[1;31mIndexError\u001b[0m                                Traceback (most recent call last)",
      "\u001b[1;32m<ipython-input-10-b6dffc9a84e6>\u001b[0m in \u001b[0;36m<module>\u001b[1;34m\u001b[0m\n\u001b[0;32m      4\u001b[0m \u001b[0mprint\u001b[0m\u001b[1;33m(\u001b[0m\u001b[0mname\u001b[0m\u001b[1;33m[\u001b[0m\u001b[1;36m7\u001b[0m\u001b[1;33m]\u001b[0m\u001b[1;33m)\u001b[0m\u001b[1;33m\u001b[0m\u001b[1;33m\u001b[0m\u001b[0m\n\u001b[0;32m      5\u001b[0m \u001b[0mprint\u001b[0m\u001b[1;33m(\u001b[0m\u001b[0mname\u001b[0m\u001b[1;33m[\u001b[0m\u001b[1;36m3\u001b[0m\u001b[1;33m]\u001b[0m\u001b[1;33m)\u001b[0m\u001b[1;33m\u001b[0m\u001b[1;33m\u001b[0m\u001b[0m\n\u001b[1;32m----> 6\u001b[1;33m \u001b[0mprint\u001b[0m\u001b[1;33m(\u001b[0m\u001b[0mname\u001b[0m\u001b[1;33m[\u001b[0m\u001b[1;36m19\u001b[0m\u001b[1;33m]\u001b[0m\u001b[1;33m)\u001b[0m\u001b[1;33m\u001b[0m\u001b[1;33m\u001b[0m\u001b[0m\n\u001b[0m",
      "\u001b[1;31mIndexError\u001b[0m: string index out of range"
     ]
    }
   ],
   "source": [
    "print(name)\n",
    "print(name[0])\n",
    "print(name[2])\n",
    "print(name[7])\n",
    "print(name[3])\n",
    "print(name[19])"
   ]
  },
  {
   "cell_type": "code",
   "execution_count": 13,
   "metadata": {},
   "outputs": [
    {
     "name": "stdout",
     "output_type": "stream",
     "text": [
      "Welcome to Python\n",
      "n\n",
      "y\n",
      "c\n"
     ]
    }
   ],
   "source": [
    "print(name)\n",
    "print(name[-1])\n",
    "print(name[-5])\n",
    "print(name[-14])"
   ]
  },
  {
   "cell_type": "code",
   "execution_count": 14,
   "metadata": {},
   "outputs": [
    {
     "name": "stdout",
     "output_type": "stream",
     "text": [
      "4\n",
      "G\n",
      "a\n",
      "m\n",
      "e\n",
      "------\n",
      "e\n",
      "m\n",
      "a\n",
      "G\n"
     ]
    }
   ],
   "source": [
    "a = \"Game\"\n",
    "print(len(a))\n",
    "# positive indexes range from 0 to len(a)-1 => 0 to 3\n",
    "print(a[0])\n",
    "print(a[1])\n",
    "print(a[2])\n",
    "print(a[3])\n",
    "print('------')\n",
    "# positive indexes srange from -1 to -len(a)=> -1 to -4\n",
    "print(a[-1])\n",
    "print(a[-2])\n",
    "print(a[-3])\n",
    "print(a[-4])"
   ]
  },
  {
   "cell_type": "markdown",
   "metadata": {},
   "source": [
    "### Slicing\n",
    "a= \"string\"<br>\n",
    "syntax = <b>a[start : end : step]</b><br>\n",
    "1) <b>start</b> - Index from where slicing starts. If absent deafult value is 0, if slicing is done from left to right<br>\n",
    "2) <b>end</b> - index upto which string will be sliced.<br>\n",
    "3) <b>step</b> - no of characters to skip or jump while slicing. if absent default step size is +1<br>\n",
    "All paramaters are optional"
   ]
  },
  {
   "cell_type": "markdown",
   "metadata": {},
   "source": [
    "### Left to Right Slicing\n",
    "1) String is sliced till index end-1 if end is present, otherwise till end of the string<br>\n",
    "2) Step has to be a positive number<br>\n",
    "3) If start is absent, its default value is 0."
   ]
  },
  {
   "cell_type": "code",
   "execution_count": 17,
   "metadata": {},
   "outputs": [
    {
     "name": "stdout",
     "output_type": "stream",
     "text": [
      "Welcome to Python\n",
      "17\n",
      "lcome t\n",
      "lcome t\n"
     ]
    }
   ],
   "source": [
    "name = \"Welcome to Python\"\n",
    "print(name)\n",
    "print(len(name))\n",
    "print(name[2:9])  # start=2,end=9,default step is +1\n",
    "print(name[2:9:1])"
   ]
  },
  {
   "cell_type": "markdown",
   "metadata": {},
   "source": [
    "<img src=\"string_slicing.png\">"
   ]
  },
  {
   "cell_type": "code",
   "execution_count": 19,
   "metadata": {},
   "outputs": [
    {
     "name": "stdout",
     "output_type": "stream",
     "text": [
      "Welcome to Python\n",
      "come \n",
      "lcome to Pyt\n",
      " Python\n",
      "Welcome\n",
      "Welcome to Python\n",
      "Welcome to Python\n"
     ]
    }
   ],
   "source": [
    "print(name)\n",
    "print(name[3:8]) # from index 3 till 7\n",
    "print(name[2:14]) # from index 2 till 13\n",
    "print(name[10:]) # from index 10 till end\n",
    "print(name[:7])  # from index 0 till 6\n",
    "print(name[:])\n",
    "print(name[::])\n",
    "# print(name[start : end : step])"
   ]
  },
  {
   "cell_type": "markdown",
   "metadata": {},
   "source": [
    "<img src=\"string_slicing.png\">"
   ]
  },
  {
   "cell_type": "code",
   "execution_count": 22,
   "metadata": {},
   "outputs": [
    {
     "name": "stdout",
     "output_type": "stream",
     "text": [
      "Welcome to Python\n",
      "Welcome to Pyt\n",
      "ython\n",
      "ome to P\n",
      "W\n"
     ]
    }
   ],
   "source": [
    "print(name)\n",
    "print(name[:-3]) # from 0 to till index -4\n",
    "print(name[-5:]) # from -5 till end\n",
    "print(name[4:-5]) # from index 4 till -6\n",
    "print(name[-17:1])"
   ]
  },
  {
   "cell_type": "code",
   "execution_count": 24,
   "metadata": {},
   "outputs": [
    {
     "name": "stdout",
     "output_type": "stream",
     "text": [
      "loet \n",
      "ceo\n"
     ]
    }
   ],
   "source": [
    "print(name[2:12:2])\n",
    "print(name[3:11:3])"
   ]
  },
  {
   "cell_type": "markdown",
   "metadata": {},
   "source": [
    "<img src=\"string_slicing.png\">"
   ]
  },
  {
   "cell_type": "code",
   "execution_count": 25,
   "metadata": {},
   "outputs": [
    {
     "name": "stdout",
     "output_type": "stream",
     "text": [
      "come to Pyth\n",
      "ome to Pyt\n",
      "e to P\n",
      "e to Py\n",
      "me to\n"
     ]
    }
   ],
   "source": [
    "print(name[3:-2])\n",
    "print(name[4:-3])\n",
    "print(name[-11:12])\n",
    "print(name[-11:-4])\n",
    "print(name[5:10])"
   ]
  },
  {
   "cell_type": "markdown",
   "metadata": {},
   "source": [
    "<img src=\"string_slicing.png\">"
   ]
  },
  {
   "cell_type": "code",
   "execution_count": 28,
   "metadata": {},
   "outputs": [
    {
     "name": "stdout",
     "output_type": "stream",
     "text": [
      "come to Pyth\n",
      "cm oPt\n",
      "o  t\n",
      "eo\n",
      "t y\n",
      "lmtP\n",
      "loet y\n"
     ]
    }
   ],
   "source": [
    "print(name[3:-2])\n",
    "print(name[3:-2:2])\n",
    "print(name[4:-3:3])\n",
    "print(name[-11:12:3])\n",
    "print(name[-9:-4:2])\n",
    "print(name[2:-5:3])\n",
    "print(name[-15:14:2])"
   ]
  },
  {
   "cell_type": "code",
   "execution_count": 30,
   "metadata": {},
   "outputs": [
    {
     "name": "stdout",
     "output_type": "stream",
     "text": [
      "ome t\n",
      "ome t\n"
     ]
    }
   ],
   "source": [
    "print(name[4:9])\n",
    "print(name[4:9:1])"
   ]
  },
  {
   "cell_type": "markdown",
   "metadata": {},
   "source": [
    "<img src=\"string_slicing.png\">"
   ]
  },
  {
   "cell_type": "markdown",
   "metadata": {},
   "source": [
    "### Right to Left Slicing\n",
    "1) String is sliced till index end+1<br>\n",
    "2) Step has to be a negative number"
   ]
  },
  {
   "cell_type": "markdown",
   "metadata": {},
   "source": [
    "<img src=\"string_slicing.png\">"
   ]
  },
  {
   "cell_type": "code",
   "execution_count": 32,
   "metadata": {},
   "outputs": [
    {
     "name": "stdout",
     "output_type": "stream",
     "text": [
      "\n",
      "\n"
     ]
    }
   ],
   "source": [
    "print(name[-3:4])  # assumed output - htyP ot em\n",
    "print(name[-3:4:1])"
   ]
  },
  {
   "cell_type": "code",
   "execution_count": 34,
   "metadata": {},
   "outputs": [
    {
     "name": "stdout",
     "output_type": "stream",
     "text": [
      "Welcome to Python\n",
      "htyP ot em\n",
      "\n"
     ]
    }
   ],
   "source": [
    "print(name)\n",
    "print(name[-3:4:-1])\n",
    "print(name[3:15:-1])"
   ]
  },
  {
   "cell_type": "markdown",
   "metadata": {},
   "source": [
    "<img src=\"string_slicing.png\">"
   ]
  },
  {
   "cell_type": "code",
   "execution_count": 32,
   "metadata": {},
   "outputs": [
    {
     "name": "stdout",
     "output_type": "stream",
     "text": [
      "\n",
      "otPo \n",
      "\n",
      "mtPh\n",
      "\n",
      "otPo \n",
      "hy te\n",
      "teo\n"
     ]
    }
   ],
   "source": [
    "print(name[3:8:-1])    # no output\n",
    "print(name[-2:-12:-2])\n",
    "print(name[-3:4:2])    # no output\n",
    "print(name[5:-2:3])\n",
    "print(name[3:-11:-2])  # no output\n",
    "print(name[15:-11:-2]) # otPo \n",
    "print(name[-3:5:-2])\n",
    "print(name[8:-14:-2])"
   ]
  },
  {
   "cell_type": "markdown",
   "metadata": {},
   "source": [
    "### Rule\n",
    "If all 3(start,end,step) are present, direction is governed by the combination of start:end and step size combined. String will be sliced when both the directions are same."
   ]
  },
  {
   "cell_type": "markdown",
   "metadata": {},
   "source": [
    "### Note\n",
    "\n",
    "1) If start and/or end are absent and step is present, slicing direction is governed by step size.<br>\n",
    "\n",
    "2) When start is absent and step size is negative, string will be sliced from the right end towards the left<br>\n",
    "3) Positive direction is left to right(step size is positive) and negative direction is from right to left(step size is negative)\n"
   ]
  },
  {
   "cell_type": "markdown",
   "metadata": {},
   "source": [
    "<img src=\"string_slicing.png\">"
   ]
  },
  {
   "cell_type": "code",
   "execution_count": 35,
   "metadata": {},
   "outputs": [
    {
     "name": "stdout",
     "output_type": "stream",
     "text": [
      "Welcome to Python\n",
      "ce\n",
      "m oPto\n",
      "otPo mce\n",
      "yo\n"
     ]
    }
   ],
   "source": [
    "# When end is absent, start and step are given\n",
    "print(name)\n",
    "print(name[3::-2])\n",
    "print(name[5::2])\n",
    "print(name[-2::-2])\n",
    "print(name[-5::3])"
   ]
  },
  {
   "cell_type": "markdown",
   "metadata": {},
   "source": [
    "<img src=\"string_slicing.png\">"
   ]
  },
  {
   "cell_type": "code",
   "execution_count": 36,
   "metadata": {},
   "outputs": [
    {
     "name": "stdout",
     "output_type": "stream",
     "text": [
      "Wloe\n",
      "nohtyP ot e\n",
      "Wceo\n",
      "nhy teo\n"
     ]
    }
   ],
   "source": [
    "# When start is absent, end and step are given\n",
    "print(name[:8:2])\n",
    "print(name[:-12:-1])\n",
    "print(name[:-7:3])\n",
    "print(name[:3:-2])"
   ]
  },
  {
   "cell_type": "markdown",
   "metadata": {},
   "source": [
    "<img src=\"string_slicing.png\">"
   ]
  },
  {
   "cell_type": "code",
   "execution_count": 40,
   "metadata": {},
   "outputs": [
    {
     "name": "stdout",
     "output_type": "stream",
     "text": [
      "Welcome to Python\n",
      "Wceoyo\n",
      "Wloet yhn\n",
      "nohtyP ot emocleW\n",
      "nt  oe\n"
     ]
    }
   ],
   "source": [
    "# When start and end both are absent, step is given\n",
    "print(name)\n",
    "print(name[::3])\n",
    "print(name[::2])\n",
    "print(name[::-1])  # Reverse a string\n",
    "print(name[::-3])"
   ]
  },
  {
   "cell_type": "code",
   "execution_count": 43,
   "metadata": {},
   "outputs": [
    {
     "name": "stdout",
     "output_type": "stream",
     "text": [
      "nohtyP ot emocleW\n"
     ]
    }
   ],
   "source": [
    "# Reverse a string\n",
    "print(name[::-1])"
   ]
  },
  {
   "cell_type": "markdown",
   "metadata": {},
   "source": [
    "### String Functions"
   ]
  },
  {
   "cell_type": "markdown",
   "metadata": {},
   "source": [
    "#### String Formatting"
   ]
  },
  {
   "cell_type": "code",
   "execution_count": 44,
   "metadata": {},
   "outputs": [
    {
     "name": "stdout",
     "output_type": "stream",
     "text": [
      "Ankit Ankit lives in Noida\n",
      "Ankit works as a Data Analyst\n",
      "Ankit lives in Noida\n",
      "Ankit works as a Data Analyst and lives in Noida\n",
      "Ankit lives in Noida and works as a Data Analyst\n"
     ]
    }
   ],
   "source": [
    "name = \"Ankit\"\n",
    "city = \"Noida\"\n",
    "role = \"Data Analyst\"\n",
    "print('{} {} lives in {}'.format(name,name,city))\n",
    "print(\"{} works as a {}\".format(name,role))\n",
    "print(f'{name} lives in {city}')\n",
    "print(f\"{name} works as a {role} and lives in {city}\")\n",
    "print(name,'lives in',city,'and works as a',role)"
   ]
  },
  {
   "cell_type": "code",
   "execution_count": 49,
   "metadata": {},
   "outputs": [
    {
     "name": "stdout",
     "output_type": "stream",
     "text": [
      "WORKING ON PYTHON\n",
      "Working on python\n",
      "Working On Python\n",
      "python coding\n",
      "pYTHOn cODINg\n"
     ]
    }
   ],
   "source": [
    "s1 = \"working on python\"     \n",
    "print(s1.upper())      # WORKING ON PYTHON\n",
    "print(s1.capitalize()) # Working on python\n",
    "print(s1.title())      # Working On Python\n",
    "w = \"PythoN CodinG\"\n",
    "print(w.lower()) \n",
    "print(w.swapcase())"
   ]
  },
  {
   "cell_type": "code",
   "execution_count": 50,
   "metadata": {},
   "outputs": [
    {
     "name": "stdout",
     "output_type": "stream",
     "text": [
      "Enter your name: Hitesh\n",
      "HITESH\n"
     ]
    }
   ],
   "source": [
    "n = input('Enter your name: ').upper()\n",
    "print(n)"
   ]
  },
  {
   "cell_type": "code",
   "execution_count": 51,
   "metadata": {},
   "outputs": [
    {
     "name": "stdout",
     "output_type": "stream",
     "text": [
      "Enter your name: shrijita gupta\n",
      "SHRIJITA GUPTA\n",
      "Shrijita gupta\n",
      "Shrijita Gupta\n"
     ]
    }
   ],
   "source": [
    "n = input('Enter your name: ')\n",
    "print(n.upper())\n",
    "print(n.capitalize())\n",
    "print(n.title())"
   ]
  },
  {
   "cell_type": "markdown",
   "metadata": {},
   "source": [
    "#### isupper() \n",
    "It retunrs True if the string contains atleast 1 uppercase character and no lowercase character , otherwise False"
   ]
  },
  {
   "cell_type": "code",
   "execution_count": 54,
   "metadata": {},
   "outputs": [
    {
     "name": "stdout",
     "output_type": "stream",
     "text": [
      "False\n",
      "True\n",
      "False\n",
      "True\n",
      "False\n",
      "False\n"
     ]
    }
   ],
   "source": [
    "d = \"hello world\"\n",
    "d1 = \"HELLO 67WORL.D$%\"\n",
    "d2 = \"Hello World\"\n",
    "d3,d4 = \"21314F\",\"%&^32432fhdgN\"\n",
    "d5 = \"435345634\"\n",
    "print(d.isupper())\n",
    "print(d1.isupper())\n",
    "print(d2.isupper())\n",
    "print(d3.isupper())\n",
    "print(d4.isupper())\n",
    "print(d5.isupper())"
   ]
  },
  {
   "cell_type": "markdown",
   "metadata": {},
   "source": [
    "#### islower() \n",
    "It returns True if the string contains atleast 1 lowercase character and no uppercase character , otherwise False"
   ]
  },
  {
   "cell_type": "code",
   "execution_count": 57,
   "metadata": {},
   "outputs": [
    {
     "name": "stdout",
     "output_type": "stream",
     "text": [
      "True\n",
      "False\n",
      "False\n",
      "False\n",
      "True\n",
      "False\n"
     ]
    }
   ],
   "source": [
    "d = \"hello world\"\n",
    "d1 = \"HELLO 67WORL.D$%\"\n",
    "d2 = \"Hello World\"\n",
    "d3,d4 = \"21314F\",\"%&^32432fhdg\"\n",
    "d5 = \"435345634\"\n",
    "print(d.islower())\n",
    "print(d1.islower())\n",
    "print(d2.islower())\n",
    "print(d3.islower())\n",
    "print(d4.islower())\n",
    "print(d5.islower())"
   ]
  },
  {
   "cell_type": "markdown",
   "metadata": {},
   "source": [
    "#### isalpha() - isalphabet\n",
    "Will return True if the string contains atleast 1 alphabet(upper or lower case) only, otherwise False"
   ]
  },
  {
   "cell_type": "code",
   "execution_count": 59,
   "metadata": {},
   "outputs": [
    {
     "name": "stdout",
     "output_type": "stream",
     "text": [
      "False\n",
      "False\n",
      "False\n",
      "False\n",
      "True\n"
     ]
    }
   ],
   "source": [
    "s1 = \"Banking67\"\n",
    "s2 = \"SBI Bank\"\n",
    "s3 = \"2344\"\n",
    "s4 = \"abc123@gmail.com\"\n",
    "s5 = \"Laptop\"\n",
    "print(s1.isalpha())\n",
    "print(s2.isalpha())\n",
    "print(s3.isalpha())\n",
    "print(s4.isalpha())\n",
    "print(s5.isalpha())"
   ]
  },
  {
   "cell_type": "markdown",
   "metadata": {},
   "source": [
    "#### isalnum() - isalphanumeric\n",
    "Will return True if the string contains atleast 1 alphabet(upper or lower case) or atleast 1 number only, otherwise False"
   ]
  },
  {
   "cell_type": "code",
   "execution_count": 62,
   "metadata": {},
   "outputs": [
    {
     "name": "stdout",
     "output_type": "stream",
     "text": [
      "True\n",
      "False\n",
      "True\n",
      "False\n",
      "True\n"
     ]
    }
   ],
   "source": [
    "s1 = \"Banking67\"\n",
    "s2 = \"SBI Bank\"\n",
    "s3 = \"2344\"\n",
    "s4 = \"abc123@gmail.com\"\n",
    "s5 = \"laptop\"\n",
    "print(s1.isalnum())\n",
    "print(s2.isalnum())\n",
    "print(s3.isalnum())\n",
    "print(s4.isalnum())\n",
    "print(s5.isalnum())"
   ]
  },
  {
   "cell_type": "code",
   "execution_count": 65,
   "metadata": {},
   "outputs": [
    {
     "name": "stdout",
     "output_type": "stream",
     "text": [
      "False\n",
      "False\n",
      "True\n",
      "False\n"
     ]
    }
   ],
   "source": [
    "s1 = \"Banking67\"\n",
    "s2 = \"SBI Bank\"\n",
    "s3 = \"2344\"\n",
    "s4 = \"25676$%&\"\n",
    "print(s1.isdigit())\n",
    "print(s2.isdigit())\n",
    "print(s3.isdigit())\n",
    "print(s4.isdigit())"
   ]
  },
  {
   "cell_type": "code",
   "execution_count": 68,
   "metadata": {},
   "outputs": [
    {
     "name": "stdout",
     "output_type": "stream",
     "text": [
      "\n",
      "0\n"
     ]
    }
   ],
   "source": [
    "d = \"\"\n",
    "print(d)\n",
    "print(len(d))"
   ]
  },
  {
   "cell_type": "code",
   "execution_count": 69,
   "metadata": {},
   "outputs": [
    {
     "name": "stdout",
     "output_type": "stream",
     "text": [
      "True\n",
      "False\n",
      "False\n"
     ]
    }
   ],
   "source": [
    "s1 = \"                             \"\n",
    "s2 = \"    j   \"\n",
    "s3 = \"\"\n",
    "print(s1.isspace())\n",
    "print(s2.isspace())\n",
    "print(s3.isspace())"
   ]
  },
  {
   "cell_type": "code",
   "execution_count": 77,
   "metadata": {},
   "outputs": [
    {
     "name": "stdout",
     "output_type": "stream",
     "text": [
      "True\n",
      "False\n",
      "True\n",
      "True\n",
      "True\n"
     ]
    }
   ],
   "source": [
    "s1 = \"Working on Python\"\n",
    "print(s1.startswith('Wor'))\n",
    "print(s1.startswith('Won'))\n",
    "print(s1.startswith('Work'))\n",
    "print(s1.endswith('ython'))\n",
    "print(s1.endswith('n'))"
   ]
  },
  {
   "cell_type": "code",
   "execution_count": 85,
   "metadata": {},
   "outputs": [
    {
     "name": "stdout",
     "output_type": "stream",
     "text": [
      "this is    python         \n",
      "     this is    python\n",
      "this is    python\n",
      "     this is    python         \n"
     ]
    }
   ],
   "source": [
    "s7 = \"     this is    python         \"\n",
    "print(s7.lstrip()) # removes extra space from left\n",
    "print(s7.rstrip()) # removes extra space from right\n",
    "print(s7.strip())  # removes extra space from left and right\n",
    "# strip function won't remove extra space from anywhere within of the string\n",
    "print(s7)"
   ]
  },
  {
   "cell_type": "code",
   "execution_count": 90,
   "metadata": {},
   "outputs": [
    {
     "name": "stdout",
     "output_type": "stream",
     "text": [
      "20\n",
      "Hello Hello Hello Hello Hello \n"
     ]
    }
   ],
   "source": [
    "n1 = 5\n",
    "print(n1*4)\n",
    "\n",
    "d1 = \"Hello \"\n",
    "d2 = d1*n1\n",
    "print(d2)"
   ]
  },
  {
   "cell_type": "code",
   "execution_count": 102,
   "metadata": {},
   "outputs": [
    {
     "name": "stdout",
     "output_type": "stream",
     "text": [
      "Pollution levelhits all time highin Delhi, post Diwali.\n",
      "Pollution level hits all time high in Delhi, post Diwali.\n",
      "Pollution level hits all time high in Delhi, post Diwali.\n",
      "Pollution level hits all time high in Delhi, post Diwali.\n",
      "Pollution level hits all time high in Delhi, post Diwali.\n"
     ]
    }
   ],
   "source": [
    "# String concatenation - adding string\n",
    "a = \"Pollution level\"\n",
    "b = \"hits all time high\"\n",
    "c = \"in Delhi, post Diwali.\"\n",
    "d =  a+b+c\n",
    "print(d)\n",
    "print(a,b,c)\n",
    "print(a+\" \"+b+\" \"+c)  # string concatenation\n",
    "print(f\"{a} {b} {c}\")\n",
    "print(\"{} {} {}\".format(a,b,c))"
   ]
  },
  {
   "cell_type": "code",
   "execution_count": 105,
   "metadata": {},
   "outputs": [
    {
     "name": "stdout",
     "output_type": "stream",
     "text": [
      "99\n",
      "66\n",
      "A\n",
      "Z\n",
      "a\n",
      "z\n",
      "U\n",
      "-\n",
      "/\n",
      "ê\n"
     ]
    }
   ],
   "source": [
    "# ord() gives ASCII value of an any character/spcl character/\n",
    "# ASCII - American Standard code for Information Interchange\n",
    "# A-Z = 65 - 90\n",
    "# a-z = 97 - 122\n",
    "# ord - ordinal\n",
    "# chr - character\n",
    "\n",
    "print(ord('c'))\n",
    "print(ord('B'))\n",
    "print(chr(65))\n",
    "print(chr(90))\n",
    "print(chr(97))\n",
    "print(chr(122))\n",
    "print(chr(85))\n",
    "print(chr(45))\n",
    "print(chr(47))\n",
    "print(chr(234))"
   ]
  },
  {
   "cell_type": "code",
   "execution_count": 107,
   "metadata": {},
   "outputs": [
    {
     "name": "stdout",
     "output_type": "stream",
     "text": [
      "Elon plans to colonize Mars by 2024\n",
      "n\n"
     ]
    }
   ],
   "source": [
    "text = \"Elon plans to colonize Mars by 2024\"\n",
    "print(text)\n",
    "print(text[8])"
   ]
  },
  {
   "cell_type": "code",
   "execution_count": 110,
   "metadata": {},
   "outputs": [
    {
     "ename": "TypeError",
     "evalue": "'str' object does not support item assignment",
     "output_type": "error",
     "traceback": [
      "\u001b[1;31m---------------------------------------------------------------------------\u001b[0m",
      "\u001b[1;31mTypeError\u001b[0m                                 Traceback (most recent call last)",
      "\u001b[1;32m<ipython-input-110-add3d2845776>\u001b[0m in \u001b[0;36m<module>\u001b[1;34m\u001b[0m\n\u001b[0;32m      1\u001b[0m \u001b[1;31m## Updating a string - throws an error .\u001b[0m\u001b[1;33m\u001b[0m\u001b[1;33m\u001b[0m\u001b[1;33m\u001b[0m\u001b[0m\n\u001b[0;32m      2\u001b[0m \u001b[1;31m# Conclusion :- Strings are immutatble(ie. can't be changed)\u001b[0m\u001b[1;33m\u001b[0m\u001b[1;33m\u001b[0m\u001b[1;33m\u001b[0m\u001b[0m\n\u001b[1;32m----> 3\u001b[1;33m \u001b[0mtext\u001b[0m\u001b[1;33m[\u001b[0m\u001b[1;36m8\u001b[0m\u001b[1;33m]\u001b[0m \u001b[1;33m=\u001b[0m \u001b[1;34m't'\u001b[0m\u001b[1;33m\u001b[0m\u001b[1;33m\u001b[0m\u001b[0m\n\u001b[0m\u001b[0;32m      4\u001b[0m \u001b[0mprint\u001b[0m\u001b[1;33m(\u001b[0m\u001b[0mtext\u001b[0m\u001b[1;33m)\u001b[0m\u001b[1;33m\u001b[0m\u001b[1;33m\u001b[0m\u001b[0m\n",
      "\u001b[1;31mTypeError\u001b[0m: 'str' object does not support item assignment"
     ]
    }
   ],
   "source": [
    "## Updating a string - throws an error .\n",
    "# Conclusion :- Strings are immutatble(ie. can't be changed)\n",
    "text[8] = 't'\n",
    "print(text)"
   ]
  },
  {
   "cell_type": "code",
   "execution_count": 42,
   "metadata": {},
   "outputs": [
    {
     "name": "stdout",
     "output_type": "stream",
     "text": [
      "Elon plans to colonize Mars by 2024\n"
     ]
    }
   ],
   "source": [
    "print(text)"
   ]
  },
  {
   "cell_type": "code",
   "execution_count": 43,
   "metadata": {},
   "outputs": [
    {
     "name": "stdout",
     "output_type": "stream",
     "text": [
      "Elon plans to colonize Mars by 2024\n"
     ]
    }
   ],
   "source": [
    "# del keyword is used to perform delete operation\n",
    "print(text)\n",
    "del text"
   ]
  },
  {
   "cell_type": "code",
   "execution_count": 44,
   "metadata": {},
   "outputs": [
    {
     "ename": "NameError",
     "evalue": "name 'text' is not defined",
     "output_type": "error",
     "traceback": [
      "\u001b[1;31m---------------------------------------------------------------------------\u001b[0m",
      "\u001b[1;31mNameError\u001b[0m                                 Traceback (most recent call last)",
      "\u001b[1;32m<ipython-input-44-9565a5822e79>\u001b[0m in \u001b[0;36m<module>\u001b[1;34m\u001b[0m\n\u001b[0;32m      1\u001b[0m \u001b[1;31m# Deleting a string/variable\u001b[0m\u001b[1;33m\u001b[0m\u001b[1;33m\u001b[0m\u001b[1;33m\u001b[0m\u001b[0m\n\u001b[1;32m----> 2\u001b[1;33m \u001b[0mprint\u001b[0m\u001b[1;33m(\u001b[0m\u001b[0mtext\u001b[0m\u001b[1;33m)\u001b[0m\u001b[1;33m\u001b[0m\u001b[1;33m\u001b[0m\u001b[0m\n\u001b[0m",
      "\u001b[1;31mNameError\u001b[0m: name 'text' is not defined"
     ]
    }
   ],
   "source": [
    "# Deleting a string/variable\n",
    "print(text)"
   ]
  },
  {
   "cell_type": "code",
   "execution_count": 48,
   "metadata": {},
   "outputs": [
    {
     "name": "stdout",
     "output_type": "stream",
     "text": [
      "Sheldon Cooper won the nobel prize in the last Season of the Big Bang Theory\n"
     ]
    }
   ],
   "source": [
    "# String replace\n",
    "t1 = \"Sheldon Cooper won the nobel prize in the last Season of the Big Bang Theory\"\n",
    "print(t1)"
   ]
  },
  {
   "cell_type": "code",
   "execution_count": 53,
   "metadata": {},
   "outputs": [
    {
     "name": "stdout",
     "output_type": "stream",
     "text": [
      "Sheldon Cooper lost nobel prize in the last Season of the Big Bang Theory\n"
     ]
    }
   ],
   "source": [
    "t2 = t1.replace('won the','lost')\n",
    "print(t2)"
   ]
  },
  {
   "cell_type": "code",
   "execution_count": 54,
   "metadata": {},
   "outputs": [
    {
     "name": "stdout",
     "output_type": "stream",
     "text": [
      "Sheldon Cooper lost nobel prize in the last Season of the Big Bang Theory\n",
      "Sheldon Cooper won the nobel peace prize in the last Season of the Big Bang Theory\n",
      "Sheldon Cooper won the nobel prize in the last Season of the Big Bang Theory web series\n"
     ]
    }
   ],
   "source": [
    "print(t1.replace('won the','lost'))\n",
    "print(t1.replace('nobel',\"nobel peace\"))\n",
    "print(t1.replace('Theory',\"Theory web series\"))"
   ]
  },
  {
   "cell_type": "code",
   "execution_count": 56,
   "metadata": {},
   "outputs": [
    {
     "name": "stdout",
     "output_type": "stream",
     "text": [
      "Sheldon Cooper won the nobel prize in the last Season of the Big Bang Theory\n"
     ]
    }
   ],
   "source": [
    "print(t1)"
   ]
  },
  {
   "cell_type": "code",
   "execution_count": 58,
   "metadata": {},
   "outputs": [
    {
     "name": "stdout",
     "output_type": "stream",
     "text": [
      "Messi is light years ahead of Ronaldo.\n"
     ]
    }
   ],
   "source": [
    "# String split - It returns a list\n",
    "t2 = \"Messi is light years ahead of Ronaldo.\"\n",
    "print(t2)"
   ]
  },
  {
   "cell_type": "code",
   "execution_count": 60,
   "metadata": {},
   "outputs": [
    {
     "name": "stdout",
     "output_type": "stream",
     "text": [
      "M\n"
     ]
    }
   ],
   "source": [
    "print(t2[0])"
   ]
  },
  {
   "cell_type": "markdown",
   "metadata": {},
   "source": [
    "#### split()\n",
    "\n",
    "1) split function returns list as its output<br>\n",
    "2) Removes the entity based on which the split function has been applied"
   ]
  },
  {
   "cell_type": "code",
   "execution_count": 65,
   "metadata": {},
   "outputs": [
    {
     "name": "stdout",
     "output_type": "stream",
     "text": [
      "[11, 12, 13, 41, 'Hi', True, 'Aniket', 67.9, None]\n",
      "9\n"
     ]
    },
    {
     "data": {
      "text/plain": [
       "list"
      ]
     },
     "execution_count": 65,
     "metadata": {},
     "output_type": "execute_result"
    }
   ],
   "source": [
    "a = [11,12,13,41,'Hi',True,\"Aniket\",67.90,None]\n",
    "print(a)\n",
    "print(len(a))\n",
    "type(a)"
   ]
  },
  {
   "cell_type": "code",
   "execution_count": 68,
   "metadata": {},
   "outputs": [
    {
     "name": "stdout",
     "output_type": "stream",
     "text": [
      "38\n",
      "['Messi', 'is', 'light', 'years', 'ahead', 'of', 'Ronaldo.']\n",
      "['Messi', 'is', 'light', 'years', 'ahead', 'of', 'Ronaldo.']\n"
     ]
    },
    {
     "data": {
      "text/plain": [
       "list"
      ]
     },
     "execution_count": 68,
     "metadata": {},
     "output_type": "execute_result"
    }
   ],
   "source": [
    "t2 = 'Messi is light years ahead of Ronaldo.'\n",
    "print(len(t2))\n",
    "t3 = t2.split()  # splits wrt space by default\n",
    "t4 = t2.split(' ')\n",
    "print(t3)\n",
    "print(t4)\n",
    "type(t3)"
   ]
  },
  {
   "cell_type": "code",
   "execution_count": 71,
   "metadata": {},
   "outputs": [
    {
     "name": "stdout",
     "output_type": "stream",
     "text": [
      "Messi is light years ahead of Ronaldo.\n",
      "['Mess', ' ', 's l', 'ght years ahead of Ronaldo.']\n",
      "['Me', '', 'i i', ' light year', ' ahead of Ronaldo.']\n"
     ]
    }
   ],
   "source": [
    "print(t2)\n",
    "t5 = t2.split('i')\n",
    "t6 = t2.split('s')\n",
    "print(t5)\n",
    "print(t6)"
   ]
  },
  {
   "cell_type": "code",
   "execution_count": 74,
   "metadata": {},
   "outputs": [
    {
     "name": "stdout",
     "output_type": "stream",
     "text": [
      "['welcome to ', ' season 2. ', ' is leading programming language in the IT industries']\n"
     ]
    }
   ],
   "source": [
    "d = \"welcome to Python season 2. Python is leading programming language in the IT industries\"\n",
    "d1 = d.split('Python')\n",
    "print(d1)"
   ]
  },
  {
   "cell_type": "code",
   "execution_count": 75,
   "metadata": {},
   "outputs": [
    {
     "name": "stdout",
     "output_type": "stream",
     "text": [
      "['Messi', 'is', 'light', 'years', 'ahead', 'of', 'Ronaldo.']\n"
     ]
    }
   ],
   "source": [
    "print(t3)"
   ]
  },
  {
   "cell_type": "code",
   "execution_count": 78,
   "metadata": {},
   "outputs": [
    {
     "name": "stdout",
     "output_type": "stream",
     "text": [
      "['Messi', 'is', 'light', 'years', 'ahead', 'of', 'Ronaldo.']\n",
      "Messi\n",
      "light\n",
      "Ronaldo.\n",
      "['light', 'years', 'ahead', 'of', 'Ronaldo.']\n"
     ]
    }
   ],
   "source": [
    "print(t3)\n",
    "print(t3[0])\n",
    "print(t3[2])\n",
    "print(t3[-1])\n",
    "print(t3[2:])"
   ]
  },
  {
   "cell_type": "markdown",
   "metadata": {},
   "source": [
    "###  Nested Indexing and Slicing"
   ]
  },
  {
   "cell_type": "code",
   "execution_count": 84,
   "metadata": {},
   "outputs": [
    {
     "name": "stdout",
     "output_type": "stream",
     "text": [
      "Messi\n",
      "ei\n",
      "oad\n",
      "oad\n",
      "dao\n",
      "dao\n"
     ]
    }
   ],
   "source": [
    "print(t3[0])\n",
    "print(t3[0][1::3])\n",
    "print(t3[-1][1:6:2])\n",
    "print(t3[6][1:6:2])\n",
    "print(t3[-1][-3::-2])\n",
    "print(t3[6][-3::-2])"
   ]
  },
  {
   "cell_type": "code",
   "execution_count": 87,
   "metadata": {},
   "outputs": [
    {
     "name": "stdout",
     "output_type": "stream",
     "text": [
      "\n"
     ]
    }
   ],
   "source": [
    "print(t3[6][-3:6:-2])"
   ]
  },
  {
   "cell_type": "code",
   "execution_count": 88,
   "metadata": {
    "scrolled": true
   },
   "outputs": [
    {
     "name": "stdout",
     "output_type": "stream",
     "text": [
      "['Messi', 'is', 'light', 'years', 'ahead', 'of', 'Ronaldo.']\n"
     ]
    }
   ],
   "source": [
    "print(t3)"
   ]
  },
  {
   "cell_type": "code",
   "execution_count": 62,
   "metadata": {},
   "outputs": [
    {
     "name": "stdout",
     "output_type": "stream",
     "text": [
      "Sheldon Cooper won the nobel prize in the last Season of the Big Bang Theory\n"
     ]
    }
   ],
   "source": [
    "print(t1)"
   ]
  },
  {
   "cell_type": "markdown",
   "metadata": {},
   "source": [
    "#### count()\n",
    "Counts the occurence of a given <b>character</b> or a <b>substring</b> in a string\n"
   ]
  },
  {
   "cell_type": "code",
   "execution_count": 97,
   "metadata": {},
   "outputs": [
    {
     "name": "stdout",
     "output_type": "stream",
     "text": [
      "Sheldon Cooper won the nobel prize in the last Season of the Big Bang Theory.\n",
      "3\n",
      "2\n",
      "0\n",
      "1\n",
      "Sheldon Cooper won the Dragon prize in the last Season of the Big Bang Theory.\n"
     ]
    }
   ],
   "source": [
    "t1='Sheldon Cooper won the nobel prize in the last Season of the Big Bang Theory.'\n",
    "print(t1)\n",
    "print(t1.count('on'))\n",
    "print(t1.count('n th'))\n",
    "print(t1.count('hello'))\n",
    "print(t1.count('nobel'))\n",
    "print(t1.replace('nobel','Dragon'))"
   ]
  },
  {
   "cell_type": "markdown",
   "metadata": {},
   "source": [
    "#### index()\n",
    "Returns the index of substring at its first occurence, if substring is not found, it returns an error"
   ]
  },
  {
   "cell_type": "code",
   "execution_count": 102,
   "metadata": {},
   "outputs": [
    {
     "name": "stdout",
     "output_type": "stream",
     "text": [
      "Sheldon Cooper won the nobel prize in the last Season of the Big Bang Theory.\n",
      "5\n",
      "9\n",
      "19\n",
      "31\n",
      "prize in the\n",
      "32\n"
     ]
    },
    {
     "ename": "ValueError",
     "evalue": "substring not found",
     "output_type": "error",
     "traceback": [
      "\u001b[1;31m---------------------------------------------------------------------------\u001b[0m",
      "\u001b[1;31mValueError\u001b[0m                                Traceback (most recent call last)",
      "\u001b[1;32m<ipython-input-102-3a470f42857f>\u001b[0m in \u001b[0;36m<module>\u001b[1;34m\u001b[0m\n\u001b[0;32m      8\u001b[0m \u001b[0mprint\u001b[0m\u001b[1;33m(\u001b[0m\u001b[0mt1\u001b[0m\u001b[1;33m[\u001b[0m\u001b[1;36m29\u001b[0m\u001b[1;33m:\u001b[0m\u001b[1;36m41\u001b[0m\u001b[1;33m]\u001b[0m\u001b[1;33m)\u001b[0m\u001b[1;33m\u001b[0m\u001b[1;33m\u001b[0m\u001b[0m\n\u001b[0;32m      9\u001b[0m \u001b[0mprint\u001b[0m\u001b[1;33m(\u001b[0m\u001b[0mt1\u001b[0m\u001b[1;33m.\u001b[0m\u001b[0mindex\u001b[0m\u001b[1;33m(\u001b[0m\u001b[1;34m'z'\u001b[0m\u001b[1;33m,\u001b[0m\u001b[1;36m29\u001b[0m\u001b[1;33m,\u001b[0m\u001b[1;36m41\u001b[0m\u001b[1;33m)\u001b[0m\u001b[1;33m)\u001b[0m\u001b[1;33m\u001b[0m\u001b[1;33m\u001b[0m\u001b[0m\n\u001b[1;32m---> 10\u001b[1;33m \u001b[0mprint\u001b[0m\u001b[1;33m(\u001b[0m\u001b[0mt1\u001b[0m\u001b[1;33m.\u001b[0m\u001b[0mindex\u001b[0m\u001b[1;33m(\u001b[0m\u001b[1;34m's'\u001b[0m\u001b[1;33m,\u001b[0m\u001b[1;36m29\u001b[0m\u001b[1;33m,\u001b[0m\u001b[1;36m41\u001b[0m\u001b[1;33m)\u001b[0m\u001b[1;33m)\u001b[0m\u001b[1;33m\u001b[0m\u001b[1;33m\u001b[0m\u001b[0m\n\u001b[0m",
      "\u001b[1;31mValueError\u001b[0m: substring not found"
     ]
    }
   ],
   "source": [
    "# Index - returns index starting from 0\n",
    "t1= 'Sheldon Cooper won the nobel prize in the last Season of the Big Bang Theory.'\n",
    "print(t1)\n",
    "print(t1.index('o'))\n",
    "print(t1.index('ooper'))\n",
    "print(t1.index('the'))\n",
    "print(t1.index('ize in the'))\n",
    "print(t1[29:41])\n",
    "print(t1.index('z',29,41))\n",
    "print(t1.index('s',29,41))"
   ]
  },
  {
   "cell_type": "markdown",
   "metadata": {},
   "source": [
    "#### find() \n",
    "Returns the index of substring at its first occurence, if substring is not found, it returns an error. Will return -1 is substring is absent/not found"
   ]
  },
  {
   "cell_type": "code",
   "execution_count": 105,
   "metadata": {},
   "outputs": [
    {
     "name": "stdout",
     "output_type": "stream",
     "text": [
      "Sheldon Cooper won the nobel prize in the last Season of the Big Bang Theory.\n",
      "11\n",
      "70\n",
      "23\n",
      "e last Seas\n",
      "-1\n",
      "42\n",
      "44\n",
      "50\n",
      "-1\n",
      "prize in the\n",
      "-1\n"
     ]
    }
   ],
   "source": [
    "print(t1)\n",
    "print(t1.find('p'))\n",
    "print(t1.find('Theory'))\n",
    "print(t1.find('nobel'))\n",
    "print(t1[40:51])\n",
    "print(t1.find('the',40,51))\n",
    "print(t1.find('last',40,51)) # 42\n",
    "print(t1.find('s',40,51))    # 44\n",
    "print(t1.find('s',45,51))    # \n",
    "print(t1.find('hello'))\n",
    "print(t1[29:41])\n",
    "print(t1.find('s',29,41))"
   ]
  },
  {
   "cell_type": "code",
   "execution_count": null,
   "metadata": {},
   "outputs": [],
   "source": []
  }
 ],
 "metadata": {
  "kernelspec": {
   "display_name": "Python 3",
   "language": "python",
   "name": "python3"
  },
  "language_info": {
   "codemirror_mode": {
    "name": "ipython",
    "version": 3
   },
   "file_extension": ".py",
   "mimetype": "text/x-python",
   "name": "python",
   "nbconvert_exporter": "python",
   "pygments_lexer": "ipython3",
   "version": "3.8.8"
  }
 },
 "nbformat": 4,
 "nbformat_minor": 2
}
